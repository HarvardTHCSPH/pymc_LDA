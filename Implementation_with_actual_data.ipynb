{
 "cells": [
  {
   "cell_type": "code",
   "execution_count": null,
   "metadata": {
    "collapsed": false
   },
   "outputs": [
    {
     "data": {
      "image/png": "[encoded data removed]",
      "text/plain": [
       "<matplotlib.figure.Figure at 0x10ac7e250>"
      ]
     },
     "metadata": {},
     "output_type": "display_data"
    },
    {
     "name": "stdout",
     "output_type": "stream",
     "text": [
      "The number of topics = 4\n",
      "The number of words in the vocab= 9\n",
      "The total number of documents= 4\n",
      "The number of words in document = [99, 99, 99, 99]\n",
      "The number of words in all documents = 396\n",
      " [----             12%                  ] 1250 of 10000 complete in 34.4 sec"
     ]
    }
   ],
   "source": [
    "from pandas import *\n",
    "import numpy as np\n",
    "from matplotlib import *\n",
    "import matplotlib.pyplot as plt\n",
    "%matplotlib inline\n",
    "from collections import Counter\n",
    "import pickle\n",
    "import pymc as pm\n",
    "prep_data = pickle.load(open('input.p', \"rb\" ) )\n",
    "prep_data['Tax ID'].plot(kind='hist') # show truth abundance ratios\n",
    "plt.title('The known relative abundance ratios')\n",
    "plt.xlabel('Species')\n",
    "plt.show()\n",
    "###################################################################################################################\n",
    "################################                 LOAD DATA                 ########################################\n",
    "###################################################################################################################\n",
    "data = pickle.load(open('data.p', \"rb\" ) )\n",
    "\n",
    "###################################################################################################################\n",
    "################################                 SET VARIABLES                 ####################################\n",
    "###################################################################################################################\n",
    "K = 4 # Number of topics , this is our Food or Pet topics, this would be limited to species -for first mock test 4\n",
    "V = len(prep_data['Tax ID'].unique())  # The total number of words in the vocabulary ( this would be all taxa) \n",
    "# it is still unclear whether this should be all \n",
    "M = len(data) # = len(data) #number of documents \n",
    "Wd = [len(doc) for doc in data] #number of words in documents Nd = 1,..., M\n",
    "N = 0 #the total number of words in all documents\n",
    "for i in data:\n",
    "    N = N + len(i)\n",
    "\n",
    "\n",
    "alpha = np.ones(K)\n",
    "beta = np.ones(V) - .99\n",
    "print 'The number of topics =', K\n",
    "print 'The number of words in the vocab=', V\n",
    "print 'The total number of documents=', M\n",
    "print 'The number of words in document =', Wd\n",
    "print 'The number of words in all documents =', N\n",
    "\n",
    "\n",
    "###################################################################################################################\n",
    "################################                PyMC code                      ####################################\n",
    "###################################################################################################################\n",
    "\n",
    "phi = pm.Container([pm.CompletedDirichlet(\"phi_%s\" % k, pm.Dirichlet(\"pphi_%s\" % k, theta=beta)) for k in range(K)])\n",
    "theta = pm.Container([pm.CompletedDirichlet(\"theta_%s\" % i, pm.Dirichlet(\"ptheta_%s\" % i, theta=alpha)) for i in range(M)])\n",
    "z = pm.Container([pm.Categorical('z_%i' % d, \n",
    "                 p = theta[d], \n",
    "                 size=Wd[d],\n",
    "                 value=np.random.randint(K, size=Wd[d]))\n",
    "              for d in range(M)])\n",
    "\n",
    "w = pm.Container([pm.Categorical(\"w_%i_%i\" % (d,i),\n",
    "                p = pm.Lambda('phi_z_%i_%i' % (d,i), \n",
    "                          lambda z=z[d][i], phi=phi: phi[z]),\n",
    "                value=data[d][i], \n",
    "                observed=True)\n",
    "              for d in range(M) for i in range(Wd[d])])\n",
    "\n",
    "###################################################################################################################\n",
    "################################                PyMC model                    ####################################\n",
    "###################################################################################################################\n",
    "\n",
    "model = pm.Model([theta, phi, z, w])\n",
    "mcmc = pm.MCMC(model)\n",
    "mcmc.sample(iter=10000, burn=1000, thin=10)\n",
    "\n",
    "###################################################################################################################\n",
    "################################                PyMC output                    ####################################\n",
    "###################################################################################################################\n",
    "\n",
    "theta_list = []\n",
    "for i in range(0,M):\n",
    "    var = 'theta_'+str(i)\n",
    "    theta_list.append(np.round(mcmc.stats(var)[var]['mean'].tolist(),4))\n",
    "\n",
    "phi_list = []\n",
    "for i in range(0,K):\n",
    "    var = 'phi_'+str(i)\n",
    "    phi_list.append(np.round(mcmc.stats(var)[var]['mean'].tolist(),4))\n",
    "\n",
    "z_list = []\n",
    "for i in range(0,K):\n",
    "    var = 'z_'+str(i)\n",
    "    z_list.append(mcmc.stats(var)[var]['mean'].tolist())\n",
    "\n",
    "print \"Z:  The identity of topic of word w in document d\"\n",
    "print np.array(z_list)\n",
    "\n",
    "print \"THETA:  distribution of topics in document d\" \n",
    "print np.array(theta_list)\n",
    "\n",
    "print \"PHI:  probability of words in topic D\"\n",
    "print np.array(phi_list)\n",
    "\n",
    "###################################################################################################################\n",
    "################################                PyMC plotting                    ##################################\n",
    "###################################################################################################################\n",
    "\n",
    "from pymc.Matplot import plot as mcplot\n",
    "\n",
    "mcplot(mcmc)\n"
   ]
  },
  {
   "cell_type": "code",
   "execution_count": null,
   "metadata": {
    "collapsed": false
   },
   "outputs": [],
   "source": []
  },
  {
   "cell_type": "code",
   "execution_count": null,
   "metadata": {
    "collapsed": true
   },
   "outputs": [],
   "source": []
  }
 ],
 "metadata": {
  "kernelspec": {
   "display_name": "Python 2",
   "language": "python",
   "name": "python2"
  },
  "language_info": {
   "codemirror_mode": {
    "name": "ipython",
    "version": 2
   },
   "file_extension": ".py",
   "mimetype": "text/x-python",
   "name": "python",
   "nbconvert_exporter": "python",
   "pygments_lexer": "ipython2",
   "version": "2.7.6"
  }
 },
 "nbformat": 4,
 "nbformat_minor": 0
}
